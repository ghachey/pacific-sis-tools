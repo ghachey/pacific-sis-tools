{
 "cells": [
  {
   "cell_type": "code",
   "execution_count": null,
   "id": "a0871be1-3eba-4735-bee7-13e8c9533dd0",
   "metadata": {
    "tags": []
   },
   "outputs": [],
   "source": [
    "###############################################################################\n",
    "# This notebook provides a utility that can produce clean Pacific SIS bulk    #\n",
    "# loading templates with data from clean official Pacific EMIS workbooks      #\n",
    "# Useful in getting bulk data loaded into the Pacific SIS from a clean source #\n",
    "###############################################################################\n",
    "\n",
    "# Core stuff\n",
    "import os\n",
    "from pathlib import Path\n",
    "import json\n",
    "import datetime as dt\n",
    "\n",
    "# Data stuff\n",
    "import pandas as pd # Data analysis\n",
    "import xlrd # excel \n",
    "import pyodbc # SQL DB\n",
    "from sqlalchemy.engine import URL\n",
    "from sqlalchemy import create_engine\n",
    "import sqlalchemy as sa\n",
    "\n",
    "# Pretty printing stuff\n",
    "from IPython.display import display, HTML\n",
    "import pprint\n",
    "pp = pprint.PrettyPrinter(indent=4)\n",
    "\n",
    "# Initial setup\n",
    "cwd = os.getcwd()\n",
    "\n",
    "# Configuration\n",
    "with open('config.json', 'r') as file:\n",
    "     config = json.load(file)\n",
    "        \n",
    "# EMIS config\n",
    "emis_lookup = config['emis_lookup']\n",
    "emis_workbook_name = config['emis_workbook_name']\n",
    "        \n",
    "# SIS config\n",
    "sis_database = config['sis_database']\n",
    "sis_tenant_id = config['sis_tenant_id']\n",
    "sis_user_guid = config['sis_user_guid']\n",
    "\n",
    "# Config\n",
    "data_directory = config['data_directory']\n",
    "country = config['country']\n",
    "datetime = dt.datetime.now().strftime('%Y-%m-%d %H:%M:%S')\n",
    "\n",
    "# Load the workbook\n",
    "filename = data_directory + '/' + country + '/workbooks/' + emis_workbook_name\n",
    "file = open(filename, \"r\")"
   ]
  },
  {
   "cell_type": "code",
   "execution_count": null,
   "id": "2301a863-927a-4f76-87b3-d9b0546c0d60",
   "metadata": {
    "tags": []
   },
   "outputs": [],
   "source": [
    "print(\"Opening {}\".format(filename))\n",
    "df_workbook_students = pd.read_excel(filename, sheet_name='Students', header=2, engine='openpyxl')\n",
    "#df_workbook_students = pd.read_csv(filename)\n",
    "display(df_workbook_students)"
   ]
  },
  {
   "cell_type": "code",
   "execution_count": null,
   "id": "1fdfde9d-fe06-433e-8f79-9b61a47d7636",
   "metadata": {
    "tags": []
   },
   "outputs": [],
   "source": [
    "school_year = df_workbook_students['SchoolYear'].unique()[0]\n",
    "print(\"School year {}\".format(school_year))\n",
    "school_names = df_workbook_students['School Name'].unique()\n",
    "school_names = [x for x in school_names if str(x) != 'nan']\n",
    "print(\"School names {}\".format(school_names))\n",
    "school_ids = df_workbook_students['School ID'].unique()\n",
    "print(\"School IDs {}\".format(school_ids))"
   ]
  },
  {
   "cell_type": "code",
   "execution_count": null,
   "id": "417c10d4-bd52-4fa8-bbab-ca35e69ed915",
   "metadata": {
    "tags": []
   },
   "outputs": [],
   "source": [
    "df_workbook_students.columns"
   ]
  },
  {
   "cell_type": "code",
   "execution_count": null,
   "id": "a9ad8750-39a6-4568-8f2b-68292b794553",
   "metadata": {},
   "outputs": [],
   "source": [
    "df_workbook_students = df_workbook_students.rename(columns={'National Student ID': 'Student ID', 'First Name': 'First/Given Name',\n",
    "                                    'Last Name': 'Last/Family Name', 'Date of Birth': 'Date of Birth (YYYY.MM.DD)',\n",
    "                                    'Citizenship': 'Nationality'})\n",
    "df_workbook_students['Alternate ID'] = df_workbook_students['Student ID']\n",
    "df_workbook_students['First Language'] = 'English'\n",
    "df_workbook_students['Enrollment Date (YYYY.MM.DD)'] = '2023.09.01'\n",
    "\n",
    "df_workbook_students['Date of Birth (YYYY.MM.DD)'] = df_workbook_students['Date of Birth (YYYY.MM.DD)'].dt.strftime('%Y.%m.%d')\n",
    "\n",
    "enroll_date = dt.datetime.now().strftime('%Y.%m.%d')\n",
    "df_workbook_students['Enrollment Date (YYYY.MM.DD)'] = enroll_date\n",
    "\n",
    "df_workbook_students['Nationality'] = 'Federated States of Micronesia'\n",
    "\n",
    "df_workbook_students_final = df_workbook_students[['School Name', 'Alternate ID','Student ID','First/Given Name','Middle Name','Last/Family Name','Gender','Date of Birth (YYYY.MM.DD)',\n",
    "'Nationality','First Language','Grade Level','Enrollment Date (YYYY.MM.DD)']]\n",
    "\n",
    "df_workbook_students_final"
   ]
  },
  {
   "cell_type": "code",
   "execution_count": null,
   "id": "e77c66e7-afaa-40c6-a299-1e00485dc19f",
   "metadata": {},
   "outputs": [],
   "source": [
    "df_workbook_students_final[df_workbook_students_final['School Name'] == 'Chuuk High School']"
   ]
  },
  {
   "cell_type": "code",
   "execution_count": null,
   "id": "7e0732a0-ad44-483c-9f82-c405db066c36",
   "metadata": {
    "tags": []
   },
   "outputs": [],
   "source": [
    "export_dir = data_directory + '/' + country + '/workbooks/sis-bulk-load-templates/' \n",
    "Path(export_dir).mkdir(parents=True, exist_ok=True)\n",
    "\n",
    "for school in school_names:\n",
    "    print(\"Saving students from school {} for the year {} into the SIS bulk template format\".format(school, school_year))\n",
    "    \n",
    "    # Handle any school name with characters that won't work as filenames (and that shouldn't)\n",
    "    school_str = school.replace(\"/\",\"-\")\n",
    "    school_str = school_str.replace(\".\",\"-\")\n",
    "    school_str = school_str.replace(\"&\",\"-\")\n",
    "    school_str = school_str.replace(\" \",\"-\")\n",
    "    school_str = school_str.replace(\"---\",\"-\")\n",
    "    school_str = school_str.replace(\"--\",\"-\")\n",
    "    \n",
    "    # Write to Excel the data for a final observation before a direct SQL insertion\n",
    "    with pd.ExcelWriter(export_dir+'students-'+school_str+'-'+school_year+'-roster.xlsx') as writer:  \n",
    "        df_workbook_students_final2 = df_workbook_students_final[df_workbook_students_final['School Name'] == school].copy()\n",
    "        del df_workbook_students_final2['School Name']\n",
    "        df_workbook_students_final2.to_excel(writer, index=False)"
   ]
  },
  {
   "cell_type": "code",
   "execution_count": null,
   "id": "c3fde661-6cd0-4ba2-a155-d4b065b04829",
   "metadata": {},
   "outputs": [],
   "source": []
  }
 ],
 "metadata": {
  "kernelspec": {
   "display_name": "Python 3 (ipykernel)",
   "language": "python",
   "name": "python3"
  },
  "language_info": {
   "codemirror_mode": {
    "name": "ipython",
    "version": 3
   },
   "file_extension": ".py",
   "mimetype": "text/x-python",
   "name": "python",
   "nbconvert_exporter": "python",
   "pygments_lexer": "ipython3",
   "version": "3.10.2"
  }
 },
 "nbformat": 4,
 "nbformat_minor": 5
}
